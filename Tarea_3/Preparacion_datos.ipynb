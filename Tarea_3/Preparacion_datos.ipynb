{
 "cells": [
  {
   "cell_type": "code",
   "execution_count": 1,
   "id": "53ad108d",
   "metadata": {},
   "outputs": [],
   "source": [
    "#Importar librerías y cargar base de datos\n",
    "\n",
    "import numpy as np\n",
    "import pandas as pd\n",
    "import matplotlib.pyplot as plt\n",
    "\n",
    "df = pd.read_csv(\"incident_event_log.csv\")"
   ]
  },
  {
   "cell_type": "code",
   "execution_count": 2,
   "id": "164c79e7",
   "metadata": {},
   "outputs": [
    {
     "name": "stdout",
     "output_type": "stream",
     "text": [
      "                         Valores_faltantes  Porcentaje_faltantes\n",
      "number                                   0                  0.00\n",
      "incident_state                           0                  0.00\n",
      "active                                   0                  0.00\n",
      "reassignment_count                       0                  0.00\n",
      "reopen_count                             0                  0.00\n",
      "sys_mod_count                            0                  0.00\n",
      "made_sla                                 0                  0.00\n",
      "caller_id                               29                  0.02\n",
      "opened_by                             4835                  3.41\n",
      "opened_at                                0                  0.00\n",
      "sys_created_by                       53076                 37.45\n",
      "sys_created_at                       53076                 37.45\n",
      "sys_updated_by                           0                  0.00\n",
      "sys_updated_at                           0                  0.00\n",
      "contact_type                             0                  0.00\n",
      "location                                76                  0.05\n",
      "category                                78                  0.06\n",
      "subcategory                            111                  0.08\n",
      "u_symptom                            32964                 23.26\n",
      "cmdb_ci                             141267                 99.69\n",
      "impact                                   0                  0.00\n",
      "urgency                                  0                  0.00\n",
      "priority                                 0                  0.00\n",
      "assignment_group                     14213                 10.03\n",
      "assigned_to                          27496                 19.40\n",
      "knowledge                                0                  0.00\n",
      "u_priority_confirmation                  0                  0.00\n",
      "notify                                   0                  0.00\n",
      "problem_id                          139417                 98.38\n",
      "rfc                                 140721                 99.30\n",
      "vendor                              141468                 99.83\n",
      "caused_by                           141689                 99.98\n",
      "closed_code                            714                  0.50\n",
      "resolved_by                            226                  0.16\n",
      "resolved_at                           3141                  2.22\n",
      "closed_at                                0                  0.00\n",
      "Total de filas duplicadas: 0\n",
      "\n",
      "No se encontraron filas duplicadas.\n"
     ]
    }
   ],
   "source": [
    "#Reemplazar \"?\" por NaN\n",
    "df=df.replace(\"?\",np.nan)\n",
    "\n",
    "# Total de filas\n",
    "total_filas = len(df)\n",
    "\n",
    "# Conteo de vacíos\n",
    "faltantes = df.isna().sum()\n",
    "\n",
    "# Porcentaje de vacíos\n",
    "porcentaje_faltantes = (faltantes / total_filas) * 100\n",
    "\n",
    "# DataFrame resumen\n",
    "faltantes_df = pd.DataFrame({\n",
    "    \"Valores_faltantes\": faltantes,\n",
    "    \"Porcentaje_faltantes\": porcentaje_faltantes.round(2)\n",
    "})\n",
    "\n",
    "print(faltantes_df)\n",
    "\n",
    "# --- Análisis de duplicados ---\n",
    "\n",
    "# Número total de filas duplicadas\n",
    "total_duplicados = df.duplicated().sum()\n",
    "print(f\"Total de filas duplicadas: {total_duplicados}\")\n",
    "\n",
    "# Mostrar las filas duplicadas (si existen)\n",
    "if total_duplicados > 0:\n",
    "    print(\"\\n=== Filas duplicadas ===\")\n",
    "    display(df[df.duplicated(keep=False)])  # keep=False muestra todas las ocurrencias\n",
    "else:\n",
    "    print(\"\\nNo se encontraron filas duplicadas.\")"
   ]
  }
 ],
 "metadata": {
  "kernelspec": {
   "display_name": "Python 3",
   "language": "python",
   "name": "python3"
  },
  "language_info": {
   "codemirror_mode": {
    "name": "ipython",
    "version": 3
   },
   "file_extension": ".py",
   "mimetype": "text/x-python",
   "name": "python",
   "nbconvert_exporter": "python",
   "pygments_lexer": "ipython3",
   "version": "3.12.0"
  }
 },
 "nbformat": 4,
 "nbformat_minor": 5
}
