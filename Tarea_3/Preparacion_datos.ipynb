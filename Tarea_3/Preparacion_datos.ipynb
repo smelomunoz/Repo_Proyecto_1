{
 "cells": [
  {
   "cell_type": "code",
   "execution_count": 1,
   "id": "53ad108d",
   "metadata": {},
   "outputs": [],
   "source": [
    "#Importar librerías y cargar base de datos\n",
    "\n",
    "import numpy as np\n",
    "import pandas as pd\n",
    "import matplotlib.pyplot as plt\n",
    "\n",
    "df = pd.read_csv(\"incident_event_log.csv\")"
   ]
  },
  {
   "cell_type": "code",
   "execution_count": 2,
   "id": "164c79e7",
   "metadata": {},
   "outputs": [
    {
     "name": "stdout",
     "output_type": "stream",
     "text": [
      "                         Valores_faltantes  Porcentaje_faltantes\n",
      "number                                   0                  0.00\n",
      "incident_state                           0                  0.00\n",
      "active                                   0                  0.00\n",
      "reassignment_count                       0                  0.00\n",
      "reopen_count                             0                  0.00\n",
      "sys_mod_count                            0                  0.00\n",
      "made_sla                                 0                  0.00\n",
      "caller_id                               29                  0.02\n",
      "opened_by                             4835                  3.41\n",
      "opened_at                                0                  0.00\n",
      "sys_created_by                       53076                 37.45\n",
      "sys_created_at                       53076                 37.45\n",
      "sys_updated_by                           0                  0.00\n",
      "sys_updated_at                           0                  0.00\n",
      "contact_type                             0                  0.00\n",
      "location                                76                  0.05\n",
      "category                                78                  0.06\n",
      "subcategory                            111                  0.08\n",
      "u_symptom                            32964                 23.26\n",
      "cmdb_ci                             141267                 99.69\n",
      "impact                                   0                  0.00\n",
      "urgency                                  0                  0.00\n",
      "priority                                 0                  0.00\n",
      "assignment_group                     14213                 10.03\n",
      "assigned_to                          27496                 19.40\n",
      "knowledge                                0                  0.00\n",
      "u_priority_confirmation                  0                  0.00\n",
      "notify                                   0                  0.00\n",
      "problem_id                          139417                 98.38\n",
      "rfc                                 140721                 99.30\n",
      "vendor                              141468                 99.83\n",
      "caused_by                           141689                 99.98\n",
      "closed_code                            714                  0.50\n",
      "resolved_by                            226                  0.16\n",
      "resolved_at                           3141                  2.22\n",
      "closed_at                                0                  0.00\n",
      "Total de filas duplicadas: 0\n",
      "\n",
      "No se encontraron filas duplicadas.\n"
     ]
    }
   ],
   "source": [
    "#Reemplazar \"?\" por NaN\n",
    "df=df.replace(\"?\",np.nan)\n",
    "\n",
    "# Total de filas\n",
    "total_filas = len(df)\n",
    "\n",
    "# Conteo de vacíos\n",
    "faltantes = df.isna().sum()\n",
    "\n",
    "# Porcentaje de vacíos\n",
    "porcentaje_faltantes = (faltantes / total_filas) * 100\n",
    "\n",
    "# DataFrame resumen\n",
    "faltantes_df = pd.DataFrame({\n",
    "    \"Valores_faltantes\": faltantes,\n",
    "    \"Porcentaje_faltantes\": porcentaje_faltantes.round(2)\n",
    "})\n",
    "\n",
    "print(faltantes_df)\n",
    "\n",
    "# --- Análisis de duplicados ---\n",
    "\n",
    "# Número total de filas duplicadas\n",
    "total_duplicados = df.duplicated().sum()\n",
    "print(f\"Total de filas duplicadas: {total_duplicados}\")\n",
    "\n",
    "# Mostrar las filas duplicadas (si existen)\n",
    "if total_duplicados > 0:\n",
    "    print(\"\\n=== Filas duplicadas ===\")\n",
    "    display(df[df.duplicated(keep=False)])  # keep=False muestra todas las ocurrencias\n",
    "else:\n",
    "    print(\"\\nNo se encontraron filas duplicadas.\")"
   ]
  },
  {
   "cell_type": "code",
   "execution_count": 3,
   "id": "c3d4cf00",
   "metadata": {},
   "outputs": [
    {
     "name": "stdout",
     "output_type": "stream",
     "text": [
      "=== Porcentaje de valores faltantes por columna ===\n",
      "caused_by                  99.98\n",
      "vendor                     99.83\n",
      "cmdb_ci                    99.69\n",
      "rfc                        99.30\n",
      "problem_id                 98.38\n",
      "sys_created_by             37.45\n",
      "sys_created_at             37.45\n",
      "u_symptom                  23.26\n",
      "assigned_to                19.40\n",
      "assignment_group           10.03\n",
      "opened_by                   3.41\n",
      "resolved_at                 2.22\n",
      "closed_code                 0.50\n",
      "resolved_by                 0.16\n",
      "subcategory                 0.08\n",
      "category                    0.06\n",
      "location                    0.05\n",
      "caller_id                   0.02\n",
      "incident_state              0.00\n",
      "number                      0.00\n",
      "reassignment_count          0.00\n",
      "active                      0.00\n",
      "contact_type                0.00\n",
      "sys_updated_by              0.00\n",
      "made_sla                    0.00\n",
      "sys_mod_count               0.00\n",
      "reopen_count                0.00\n",
      "opened_at                   0.00\n",
      "sys_updated_at              0.00\n",
      "u_priority_confirmation     0.00\n",
      "notify                      0.00\n",
      "priority                    0.00\n",
      "impact                      0.00\n",
      "urgency                     0.00\n",
      "knowledge                   0.00\n",
      "closed_at                   0.00\n",
      "dtype: float64\n",
      "\n",
      "Columnas a eliminar (>5% nulos): ['sys_created_by', 'sys_created_at', 'u_symptom', 'cmdb_ci', 'assignment_group', 'assigned_to', 'problem_id', 'rfc', 'vendor', 'caused_by']\n",
      "\n",
      "Shape original: (141712, 36)\n",
      "Shape después de limpieza: (141712, 26)\n"
     ]
    }
   ],
   "source": [
    "# --- Calcular porcentaje de nulos por columna ---\n",
    "porc_nulos = (df.isna().sum() / len(df)) * 100\n",
    "\n",
    "print(\"=== Porcentaje de valores faltantes por columna ===\")\n",
    "print(porc_nulos.sort_values(ascending=False).round(2))\n",
    "\n",
    "# --- Seleccionar columnas a eliminar (más del 5% de nulos) ---\n",
    "cols_drop = porc_nulos[porc_nulos > 5].index.tolist()\n",
    "\n",
    "print(f\"\\nColumnas a eliminar (>5% nulos): {cols_drop}\")\n",
    "\n",
    "# --- Eliminar columnas ---\n",
    "df_limpio = df.drop(columns=cols_drop)\n",
    "\n",
    "print(f\"\\nShape original: {df.shape}\")\n",
    "print(f\"Shape después de limpieza: {df_limpio.shape}\")\n"
   ]
  },
  {
   "cell_type": "code",
   "execution_count": 6,
   "id": "b549e01e",
   "metadata": {},
   "outputs": [
    {
     "name": "stderr",
     "output_type": "stream",
     "text": [
      "C:\\Users\\santy\\AppData\\Local\\Temp\\ipykernel_41548\\13732424.py:2: UserWarning: Parsing dates in %d/%m/%Y %H:%M format when dayfirst=False (the default) was specified. Pass `dayfirst=True` or specify a format to silence this warning.\n",
      "  df_limpio[\"opened_at\"] = pd.to_datetime(df_limpio[\"opened_at\"], errors=\"coerce\")\n",
      "C:\\Users\\santy\\AppData\\Local\\Temp\\ipykernel_41548\\13732424.py:3: UserWarning: Parsing dates in %d/%m/%Y %H:%M format when dayfirst=False (the default) was specified. Pass `dayfirst=True` or specify a format to silence this warning.\n",
      "  df_limpio[\"resolved_at\"] = pd.to_datetime(df_limpio[\"resolved_at\"], errors=\"coerce\")\n"
     ]
    },
    {
     "name": "stdout",
     "output_type": "stream",
     "text": [
      "\n",
      "=== Estadísticas descriptivas de resolution_time ===\n",
      "count    138571.00\n",
      "mean         11.23\n",
      "std          27.12\n",
      "min           0.00\n",
      "25%           0.17\n",
      "50%           3.06\n",
      "75%          10.92\n",
      "max         336.26\n",
      "Name: resolution_time, dtype: float64\n",
      "\n",
      "=== Estadísticas descriptivas de closure_time ===\n",
      "count    56316.00\n",
      "mean        73.38\n",
      "std        105.24\n",
      "min       -289.96\n",
      "25%        -22.65\n",
      "50%         67.05\n",
      "75%        162.27\n",
      "max        555.63\n",
      "Name: closure_time, dtype: float64\n"
     ]
    }
   ],
   "source": [
    "# --- Convertir a datetime ---\n",
    "df_limpio[\"opened_at\"] = pd.to_datetime(df_limpio[\"opened_at\"], errors=\"coerce\")\n",
    "df_limpio[\"resolved_at\"] = pd.to_datetime(df_limpio[\"resolved_at\"], errors=\"coerce\")\n",
    "df_limpio[\"closed_at\"] = pd.to_datetime(df_limpio[\"closed_at\"], errors=\"coerce\")\n",
    "\n",
    "# --- Crear métricas derivadas en días ---\n",
    "df_limpio[\"resolution_time\"] = (df_limpio[\"resolved_at\"] - df_limpio[\"opened_at\"]).dt.total_seconds() / 86400\n",
    "df_limpio[\"closure_time\"] = (df_limpio[\"closed_at\"] - df_limpio[\"opened_at\"]).dt.total_seconds() / 86400\n",
    "\n",
    "# --- Estadísticas descriptivas ---\n",
    "print(\"\\n=== Estadísticas descriptivas de resolution_time ===\")\n",
    "print(df_limpio[\"resolution_time\"].describe().round(2))\n",
    "\n",
    "print(\"\\n=== Estadísticas descriptivas de closure_time ===\")\n",
    "print(df_limpio[\"closure_time\"].describe().round(2))"
   ]
  },
  {
   "cell_type": "code",
   "execution_count": 7,
   "id": "73bef65f",
   "metadata": {},
   "outputs": [
    {
     "name": "stdout",
     "output_type": "stream",
     "text": [
      "impact: ['Medium' 'High' 'Low']\n",
      "urgency: ['Medium' 'Low' 'High']\n",
      "priority: ['Moderate' 'High' 'Low' 'Critical']\n"
     ]
    }
   ],
   "source": [
    "# Normalizar impact, urgency y priority a solo texto limpio\n",
    "for col in [\"impact\", \"urgency\", \"priority\"]:\n",
    "    if col in df_limpio.columns:\n",
    "        # Convertir a string, quitar números + guiones, recortar espacios\n",
    "        df_limpio[col] = (\n",
    "            df_limpio[col]\n",
    "            .astype(str)\n",
    "            .str.replace(r\"^\\d+\\s*-\\s*\", \"\", regex=True)  # quita \"1 -\", \"2 -\" etc.\n",
    "            .str.strip()  # quita espacios extras\n",
    "        )\n",
    "\n",
    "# Ver valores únicos después de limpiar\n",
    "for col in [\"impact\", \"urgency\", \"priority\"]:\n",
    "    if col in df_limpio.columns:\n",
    "        print(f\"{col}: {df_limpio[col].unique()}\")\n"
   ]
  },
  {
   "cell_type": "code",
   "execution_count": 8,
   "id": "d9438864",
   "metadata": {},
   "outputs": [
    {
     "name": "stdout",
     "output_type": "stream",
     "text": [
      "=== Resumen limpieza/outliers ===\n",
      "- Registros ELIMINADOS por reassignment_count > 15: 87\n",
      "- Outliers en reopen_count (IQR, > Q3 + 1.5*IQR): 2256 (1.59% del DataFrame actualizado)\n",
      "\n",
      "Tipos de las columnas bandera:\n",
      "is_outlier_reassignment    bool\n",
      "is_outlier_reopen          bool\n",
      "dtype: object\n"
     ]
    }
   ],
   "source": [
    "# --- 1) Marcar outliers en reassignment_count (>15) y contar cuántos ---\n",
    "df_limpio[\"is_outlier_reassignment\"] = df_limpio[\"reassignment_count\"] > 15\n",
    "df_limpio[\"is_outlier_reassignment\"] = df_limpio[\"is_outlier_reassignment\"].fillna(False).astype(bool)\n",
    "\n",
    "eliminados_reassignment = int(df_limpio[\"is_outlier_reassignment\"].sum())\n",
    "\n",
    "# Eliminar registros con reassignment_count > 15\n",
    "df_limpio = df_limpio.loc[~df_limpio[\"is_outlier_reassignment\"]].copy()\n",
    "\n",
    "# --- 2) Outliers en reopen_count por IQR (solo límite superior Q3 + 1.5*IQR) ---\n",
    "serie = df_limpio[\"reopen_count\"].dropna()\n",
    "q1 = serie.quantile(0.25)\n",
    "q3 = serie.quantile(0.75)\n",
    "iqr = q3 - q1\n",
    "upper = q3 + 1.5 * iqr\n",
    "\n",
    "df_limpio[\"is_outlier_reopen\"] = (df_limpio[\"reopen_count\"] > upper)\n",
    "df_limpio[\"is_outlier_reopen\"] = df_limpio[\"is_outlier_reopen\"].fillna(False).astype(bool)\n",
    "\n",
    "# --- 3) Resumen de resultados ---\n",
    "total_actual = len(df_limpio)\n",
    "outliers_reopen_n = int(df_limpio[\"is_outlier_reopen\"].sum())\n",
    "outliers_reopen_pct = (outliers_reopen_n / total_actual * 100) if total_actual > 0 else 0.0\n",
    "\n",
    "print(\"=== Resumen limpieza/outliers ===\")\n",
    "print(f\"- Registros ELIMINADOS por reassignment_count > 15: {eliminados_reassignment}\")\n",
    "print(f\"- Outliers en reopen_count (IQR, > Q3 + 1.5*IQR): {outliers_reopen_n} \"\n",
    "      f\"({outliers_reopen_pct:.2f}% del DataFrame actualizado)\")\n",
    "\n",
    "# (Opcional) verificar tipos booleanos\n",
    "print(\"\\nTipos de las columnas bandera:\")\n",
    "print(df_limpio[[\"is_outlier_reassignment\",\"is_outlier_reopen\"]].dtypes)"
   ]
  }
 ],
 "metadata": {
  "kernelspec": {
   "display_name": "Python 3",
   "language": "python",
   "name": "python3"
  },
  "language_info": {
   "codemirror_mode": {
    "name": "ipython",
    "version": 3
   },
   "file_extension": ".py",
   "mimetype": "text/x-python",
   "name": "python",
   "nbconvert_exporter": "python",
   "pygments_lexer": "ipython3",
   "version": "3.12.0"
  }
 },
 "nbformat": 4,
 "nbformat_minor": 5
}
